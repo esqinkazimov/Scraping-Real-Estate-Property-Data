{
 "cells": [
  {
   "cell_type": "code",
   "execution_count": 1,
   "metadata": {},
   "outputs": [
    {
     "data": {
      "text/plain": [
       "'237000'"
      ]
     },
     "execution_count": 1,
     "metadata": {},
     "output_type": "execute_result"
    }
   ],
   "source": [
    "import requests\n",
    "from bs4 import BeautifulSoup\n",
    "\n",
    "r = requests.get('https://kub.az/search?adsDateCat=All&entityType=0&buildingType=-1&purpose=0&ownerType=-1&city=1&words=&documentType=-1&loanType=1&oneRoom=false&twoRoom=false&threeRoom=false&fourRoom=false&fiveMoreRoom=false&remakeType=0&minFloor=1&maxFloor=31&minBuildingFloors=1&maxBuildingFloors=31&minPrice=&maxPrice=&minArea=&maxArea=&minParcelArea=&maxParcelArea=&groupSimilar=true&search=&page=1')\n",
    "c = r.content\n",
    "\n",
    "soup = BeautifulSoup(c, 'html.parser')\n",
    "\n",
    "all = soup.find_all('div', {'class':'item'})\n",
    "\n",
    "all[0].find('span', {'class': 'price-amount'}).text"
   ]
  },
  {
   "cell_type": "code",
   "execution_count": 2,
   "metadata": {
    "scrolled": true
   },
   "outputs": [
    {
     "name": "stdout",
     "output_type": "stream",
     "text": [
      "https://kub.az/search?adsDateCat=All&entityType=0&buildingType=-1&purpose=0&ownerType=-1&city=1&words=&documentType=-1&loanType=1&oneRoom=false&twoRoom=false&threeRoom=false&fourRoom=false&fiveMoreRoom=false&remakeType=0&minFloor=1&maxFloor=31&minBuildingFloors=1&maxBuildingFloors=31&minPrice=&maxPrice=&minArea=&maxArea=&minParcelArea=&maxParcelArea=&groupSimilar=true&search=&page=1\n",
      "https://kub.az/search?adsDateCat=All&entityType=0&buildingType=-1&purpose=0&ownerType=-1&city=1&words=&documentType=-1&loanType=1&oneRoom=false&twoRoom=false&threeRoom=false&fourRoom=false&fiveMoreRoom=false&remakeType=0&minFloor=1&maxFloor=31&minBuildingFloors=1&maxBuildingFloors=31&minPrice=&maxPrice=&minArea=&maxArea=&minParcelArea=&maxParcelArea=&groupSimilar=true&search=&page=2\n",
      "https://kub.az/search?adsDateCat=All&entityType=0&buildingType=-1&purpose=0&ownerType=-1&city=1&words=&documentType=-1&loanType=1&oneRoom=false&twoRoom=false&threeRoom=false&fourRoom=false&fiveMoreRoom=false&remakeType=0&minFloor=1&maxFloor=31&minBuildingFloors=1&maxBuildingFloors=31&minPrice=&maxPrice=&minArea=&maxArea=&minParcelArea=&maxParcelArea=&groupSimilar=true&search=&page=3\n",
      "https://kub.az/search?adsDateCat=All&entityType=0&buildingType=-1&purpose=0&ownerType=-1&city=1&words=&documentType=-1&loanType=1&oneRoom=false&twoRoom=false&threeRoom=false&fourRoom=false&fiveMoreRoom=false&remakeType=0&minFloor=1&maxFloor=31&minBuildingFloors=1&maxBuildingFloors=31&minPrice=&maxPrice=&minArea=&maxArea=&minParcelArea=&maxParcelArea=&groupSimilar=true&search=&page=4\n",
      "https://kub.az/search?adsDateCat=All&entityType=0&buildingType=-1&purpose=0&ownerType=-1&city=1&words=&documentType=-1&loanType=1&oneRoom=false&twoRoom=false&threeRoom=false&fourRoom=false&fiveMoreRoom=false&remakeType=0&minFloor=1&maxFloor=31&minBuildingFloors=1&maxBuildingFloors=31&minPrice=&maxPrice=&minArea=&maxArea=&minParcelArea=&maxParcelArea=&groupSimilar=true&search=&page=5\n",
      "https://kub.az/search?adsDateCat=All&entityType=0&buildingType=-1&purpose=0&ownerType=-1&city=1&words=&documentType=-1&loanType=1&oneRoom=false&twoRoom=false&threeRoom=false&fourRoom=false&fiveMoreRoom=false&remakeType=0&minFloor=1&maxFloor=31&minBuildingFloors=1&maxBuildingFloors=31&minPrice=&maxPrice=&minArea=&maxArea=&minParcelArea=&maxParcelArea=&groupSimilar=true&search=&page=6\n",
      "https://kub.az/search?adsDateCat=All&entityType=0&buildingType=-1&purpose=0&ownerType=-1&city=1&words=&documentType=-1&loanType=1&oneRoom=false&twoRoom=false&threeRoom=false&fourRoom=false&fiveMoreRoom=false&remakeType=0&minFloor=1&maxFloor=31&minBuildingFloors=1&maxBuildingFloors=31&minPrice=&maxPrice=&minArea=&maxArea=&minParcelArea=&maxParcelArea=&groupSimilar=true&search=&page=7\n",
      "https://kub.az/search?adsDateCat=All&entityType=0&buildingType=-1&purpose=0&ownerType=-1&city=1&words=&documentType=-1&loanType=1&oneRoom=false&twoRoom=false&threeRoom=false&fourRoom=false&fiveMoreRoom=false&remakeType=0&minFloor=1&maxFloor=31&minBuildingFloors=1&maxBuildingFloors=31&minPrice=&maxPrice=&minArea=&maxArea=&minParcelArea=&maxParcelArea=&groupSimilar=true&search=&page=8\n",
      "https://kub.az/search?adsDateCat=All&entityType=0&buildingType=-1&purpose=0&ownerType=-1&city=1&words=&documentType=-1&loanType=1&oneRoom=false&twoRoom=false&threeRoom=false&fourRoom=false&fiveMoreRoom=false&remakeType=0&minFloor=1&maxFloor=31&minBuildingFloors=1&maxBuildingFloors=31&minPrice=&maxPrice=&minArea=&maxArea=&minParcelArea=&maxParcelArea=&groupSimilar=true&search=&page=9\n",
      "https://kub.az/search?adsDateCat=All&entityType=0&buildingType=-1&purpose=0&ownerType=-1&city=1&words=&documentType=-1&loanType=1&oneRoom=false&twoRoom=false&threeRoom=false&fourRoom=false&fiveMoreRoom=false&remakeType=0&minFloor=1&maxFloor=31&minBuildingFloors=1&maxBuildingFloors=31&minPrice=&maxPrice=&minArea=&maxArea=&minParcelArea=&maxParcelArea=&groupSimilar=true&search=&page=10\n",
      "https://kub.az/search?adsDateCat=All&entityType=0&buildingType=-1&purpose=0&ownerType=-1&city=1&words=&documentType=-1&loanType=1&oneRoom=false&twoRoom=false&threeRoom=false&fourRoom=false&fiveMoreRoom=false&remakeType=0&minFloor=1&maxFloor=31&minBuildingFloors=1&maxBuildingFloors=31&minPrice=&maxPrice=&minArea=&maxArea=&minParcelArea=&maxParcelArea=&groupSimilar=true&search=&page=11\n",
      "https://kub.az/search?adsDateCat=All&entityType=0&buildingType=-1&purpose=0&ownerType=-1&city=1&words=&documentType=-1&loanType=1&oneRoom=false&twoRoom=false&threeRoom=false&fourRoom=false&fiveMoreRoom=false&remakeType=0&minFloor=1&maxFloor=31&minBuildingFloors=1&maxBuildingFloors=31&minPrice=&maxPrice=&minArea=&maxArea=&minParcelArea=&maxParcelArea=&groupSimilar=true&search=&page=12\n",
      "https://kub.az/search?adsDateCat=All&entityType=0&buildingType=-1&purpose=0&ownerType=-1&city=1&words=&documentType=-1&loanType=1&oneRoom=false&twoRoom=false&threeRoom=false&fourRoom=false&fiveMoreRoom=false&remakeType=0&minFloor=1&maxFloor=31&minBuildingFloors=1&maxBuildingFloors=31&minPrice=&maxPrice=&minArea=&maxArea=&minParcelArea=&maxParcelArea=&groupSimilar=true&search=&page=13\n",
      "https://kub.az/search?adsDateCat=All&entityType=0&buildingType=-1&purpose=0&ownerType=-1&city=1&words=&documentType=-1&loanType=1&oneRoom=false&twoRoom=false&threeRoom=false&fourRoom=false&fiveMoreRoom=false&remakeType=0&minFloor=1&maxFloor=31&minBuildingFloors=1&maxBuildingFloors=31&minPrice=&maxPrice=&minArea=&maxArea=&minParcelArea=&maxParcelArea=&groupSimilar=true&search=&page=14\n",
      "https://kub.az/search?adsDateCat=All&entityType=0&buildingType=-1&purpose=0&ownerType=-1&city=1&words=&documentType=-1&loanType=1&oneRoom=false&twoRoom=false&threeRoom=false&fourRoom=false&fiveMoreRoom=false&remakeType=0&minFloor=1&maxFloor=31&minBuildingFloors=1&maxBuildingFloors=31&minPrice=&maxPrice=&minArea=&maxArea=&minParcelArea=&maxParcelArea=&groupSimilar=true&search=&page=15\n",
      "https://kub.az/search?adsDateCat=All&entityType=0&buildingType=-1&purpose=0&ownerType=-1&city=1&words=&documentType=-1&loanType=1&oneRoom=false&twoRoom=false&threeRoom=false&fourRoom=false&fiveMoreRoom=false&remakeType=0&minFloor=1&maxFloor=31&minBuildingFloors=1&maxBuildingFloors=31&minPrice=&maxPrice=&minArea=&maxArea=&minParcelArea=&maxParcelArea=&groupSimilar=true&search=&page=16\n",
      "https://kub.az/search?adsDateCat=All&entityType=0&buildingType=-1&purpose=0&ownerType=-1&city=1&words=&documentType=-1&loanType=1&oneRoom=false&twoRoom=false&threeRoom=false&fourRoom=false&fiveMoreRoom=false&remakeType=0&minFloor=1&maxFloor=31&minBuildingFloors=1&maxBuildingFloors=31&minPrice=&maxPrice=&minArea=&maxArea=&minParcelArea=&maxParcelArea=&groupSimilar=true&search=&page=17\n",
      "https://kub.az/search?adsDateCat=All&entityType=0&buildingType=-1&purpose=0&ownerType=-1&city=1&words=&documentType=-1&loanType=1&oneRoom=false&twoRoom=false&threeRoom=false&fourRoom=false&fiveMoreRoom=false&remakeType=0&minFloor=1&maxFloor=31&minBuildingFloors=1&maxBuildingFloors=31&minPrice=&maxPrice=&minArea=&maxArea=&minParcelArea=&maxParcelArea=&groupSimilar=true&search=&page=18\n",
      "https://kub.az/search?adsDateCat=All&entityType=0&buildingType=-1&purpose=0&ownerType=-1&city=1&words=&documentType=-1&loanType=1&oneRoom=false&twoRoom=false&threeRoom=false&fourRoom=false&fiveMoreRoom=false&remakeType=0&minFloor=1&maxFloor=31&minBuildingFloors=1&maxBuildingFloors=31&minPrice=&maxPrice=&minArea=&maxArea=&minParcelArea=&maxParcelArea=&groupSimilar=true&search=&page=19\n",
      "https://kub.az/search?adsDateCat=All&entityType=0&buildingType=-1&purpose=0&ownerType=-1&city=1&words=&documentType=-1&loanType=1&oneRoom=false&twoRoom=false&threeRoom=false&fourRoom=false&fiveMoreRoom=false&remakeType=0&minFloor=1&maxFloor=31&minBuildingFloors=1&maxBuildingFloors=31&minPrice=&maxPrice=&minArea=&maxArea=&minParcelArea=&maxParcelArea=&groupSimilar=true&search=&page=20\n"
     ]
    }
   ],
   "source": [
    "l = []\n",
    "base_url = 'https://kub.az/search?adsDateCat=All&entityType=0&buildingType=-1&purpose=0&ownerType=-1&city=1&words=&documentType=-1&loanType=1&oneRoom=false&twoRoom=false&threeRoom=false&fourRoom=false&fiveMoreRoom=false&remakeType=0&minFloor=1&maxFloor=31&minBuildingFloors=1&maxBuildingFloors=31&minPrice=&maxPrice=&minArea=&maxArea=&minParcelArea=&maxParcelArea=&groupSimilar=true&search=&page='\n",
    "for page in range(1, 21):\n",
    "    print(base_url + str(page))\n",
    "    r = requests.get(base_url + str(page))\n",
    "    c = r.content\n",
    "    soup = BeautifulSoup(c, 'html.parser')\n",
    "    all = soup.find_all('div', {'class': 'item'})\n",
    "    \n",
    "    for item in all:\n",
    "        d = {}\n",
    "        d['qiymet'] = item.find('span', {'class': 'price-amount'}).text\n",
    "\n",
    "        try:\n",
    "            if 'Kupçalı' in item.find('div', {'class': 'item-certificate'}).text:\n",
    "                d['sened'] = 'Kupcali'\n",
    "        except:\n",
    "            d['sened'] = 'Kupcasiz'\n",
    "        \n",
    "        try:\n",
    "            if 'Yeni' in item.find('h1', {'class': 'item-category'}).text.replace('Bina ev mənzil', '').replace(' ', '').replace('\\n', '')[3:]:\n",
    "                d['Bina novu'] = 'Yeni Tikili'\n",
    "            else:\n",
    "                d['Bina novu'] = 'Kohne Tikili'\n",
    "        except:\n",
    "            pass\n",
    "        \n",
    "        try:\n",
    "            d['otaq sayi'] = item.find_all('span', {'class': 'text-nowrap'})[0].text.replace(' otaq', '').replace(' (düzəlmə)', '')\n",
    "        except:\n",
    "            pass\n",
    "\n",
    "        try:\n",
    "            d['sahe'] = item.find_all('span', {'class': 'text-nowrap'})[1].text.replace(' m²', '')\n",
    "        except:\n",
    "            pass\n",
    "\n",
    "        try:\n",
    "            a = item.find_all('span', {'class': 'text-nowrap'})[2].text.replace(' Mərtəbə', '').replace('/ ', '')\n",
    "            number1 = int(a[:a.find(' ')])\n",
    "            number2 = int(a[a.find(' ') + 1:])\n",
    "            if number1 <= number2:\n",
    "                d['mertebe'] = number1\n",
    "            elif number2 < number1:\n",
    "                d['mertebe'] = number2\n",
    "        except:\n",
    "            pass\n",
    "\n",
    "        try:\n",
    "            b = item.find_all('span', {'class': 'text-nowrap'})[4].text.replace('ı', 'i').replace('ə', 'e').replace('ö', 'o').replace('ü', 'u').replace('ş', 's').replace('ç', 'c').replace('ğ', 'g')\n",
    "            if 'r.' in b or b == 'Masazir':\n",
    "                d['mekan'] = b\n",
    "            else:\n",
    "                pass\n",
    "        except:\n",
    "            pass\n",
    "\n",
    "        l.append(d)"
   ]
  },
  {
   "cell_type": "code",
   "execution_count": 3,
   "metadata": {},
   "outputs": [],
   "source": [
    "import pandas as pd\n",
    "df = pd.DataFrame(l)"
   ]
  },
  {
   "cell_type": "code",
   "execution_count": 4,
   "metadata": {},
   "outputs": [
    {
     "data": {
      "text/html": [
       "<div>\n",
       "<style scoped>\n",
       "    .dataframe tbody tr th:only-of-type {\n",
       "        vertical-align: middle;\n",
       "    }\n",
       "\n",
       "    .dataframe tbody tr th {\n",
       "        vertical-align: top;\n",
       "    }\n",
       "\n",
       "    .dataframe thead th {\n",
       "        text-align: right;\n",
       "    }\n",
       "</style>\n",
       "<table border=\"1\" class=\"dataframe\">\n",
       "  <thead>\n",
       "    <tr style=\"text-align: right;\">\n",
       "      <th></th>\n",
       "      <th>Bina novu</th>\n",
       "      <th>mekan</th>\n",
       "      <th>mertebe</th>\n",
       "      <th>otaq sayi</th>\n",
       "      <th>qiymet</th>\n",
       "      <th>sahe</th>\n",
       "      <th>sened</th>\n",
       "    </tr>\n",
       "  </thead>\n",
       "  <tbody>\n",
       "    <tr>\n",
       "      <th>0</th>\n",
       "      <td>Yeni Tikili</td>\n",
       "      <td>Nerimanov r.</td>\n",
       "      <td>16.0</td>\n",
       "      <td>4</td>\n",
       "      <td>237000</td>\n",
       "      <td>200</td>\n",
       "      <td>Kupcali</td>\n",
       "    </tr>\n",
       "    <tr>\n",
       "      <th>1</th>\n",
       "      <td>Yeni Tikili</td>\n",
       "      <td>Yasamal r.</td>\n",
       "      <td>6.0</td>\n",
       "      <td>4</td>\n",
       "      <td>432000</td>\n",
       "      <td>192</td>\n",
       "      <td>Kupcali</td>\n",
       "    </tr>\n",
       "    <tr>\n",
       "      <th>2</th>\n",
       "      <td>Yeni Tikili</td>\n",
       "      <td>Nesimi r.</td>\n",
       "      <td>5.0</td>\n",
       "      <td>4</td>\n",
       "      <td>550000</td>\n",
       "      <td>200</td>\n",
       "      <td>Kupcali</td>\n",
       "    </tr>\n",
       "    <tr>\n",
       "      <th>3</th>\n",
       "      <td>Yeni Tikili</td>\n",
       "      <td>Xetai r.</td>\n",
       "      <td>5.0</td>\n",
       "      <td>4</td>\n",
       "      <td>137000</td>\n",
       "      <td>132</td>\n",
       "      <td>Kupcasiz</td>\n",
       "    </tr>\n",
       "    <tr>\n",
       "      <th>4</th>\n",
       "      <td>Yeni Tikili</td>\n",
       "      <td>Yasamal r.</td>\n",
       "      <td>4.0</td>\n",
       "      <td>4</td>\n",
       "      <td>425000</td>\n",
       "      <td>192</td>\n",
       "      <td>Kupcasiz</td>\n",
       "    </tr>\n",
       "  </tbody>\n",
       "</table>\n",
       "</div>"
      ],
      "text/plain": [
       "     Bina novu         mekan  mertebe otaq sayi  qiymet  sahe     sened\n",
       "0  Yeni Tikili  Nerimanov r.     16.0         4  237000  200    Kupcali\n",
       "1  Yeni Tikili    Yasamal r.      6.0         4  432000  192    Kupcali\n",
       "2  Yeni Tikili     Nesimi r.      5.0         4  550000  200    Kupcali\n",
       "3  Yeni Tikili      Xetai r.      5.0         4  137000  132   Kupcasiz\n",
       "4  Yeni Tikili    Yasamal r.      4.0         4  425000  192   Kupcasiz"
      ]
     },
     "execution_count": 4,
     "metadata": {},
     "output_type": "execute_result"
    }
   ],
   "source": [
    "df.head()"
   ]
  },
  {
   "cell_type": "code",
   "execution_count": 5,
   "metadata": {},
   "outputs": [],
   "source": [
    "df.to_csv('Real Estate Data.csv')"
   ]
  }
 ],
 "metadata": {
  "kernelspec": {
   "display_name": "Python 3",
   "language": "python",
   "name": "python3"
  },
  "language_info": {
   "codemirror_mode": {
    "name": "ipython",
    "version": 3
   },
   "file_extension": ".py",
   "mimetype": "text/x-python",
   "name": "python",
   "nbconvert_exporter": "python",
   "pygments_lexer": "ipython3",
   "version": "3.6.5"
  }
 },
 "nbformat": 4,
 "nbformat_minor": 2
}
